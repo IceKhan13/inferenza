{
 "cells": [
  {
   "cell_type": "code",
   "execution_count": 77,
   "metadata": {},
   "outputs": [
    {
     "data": {
      "text/plain": [
       "array([[5.00000000e-01, 5.00000000e-01, 9.08222736e-17],\n",
       "       [5.00000000e-01, 5.00000000e-01, 9.08222736e-17]])"
      ]
     },
     "execution_count": 77,
     "metadata": {},
     "output_type": "execute_result"
    }
   ],
   "source": [
    "from sklearn import linear_model\n",
    "\n",
    "reg = linear_model.LinearRegression()\n",
    "X = [[0, 0, 1], [1, 1, 3], [2, 2, 2]]\n",
    "y = [[1, 1], [2, 2], [3, 3]]\n",
    "reg.fit(X, y)\n",
    "\n",
    "reg.coef_"
   ]
  },
  {
   "cell_type": "code",
   "execution_count": 36,
   "metadata": {},
   "outputs": [],
   "source": [
    "from skl2onnx import to_onnx\n",
    "from skl2onnx.common.data_types import FloatTensorType\n",
    "\n",
    "\n",
    "initial_type = [\n",
    "    ('coefficients', FloatTensorType([None, 3]))\n",
    "]\n",
    "\n",
    "onx = to_onnx(reg, initial_types=initial_type)\n",
    "with open(\"linear_regression.onnx\", \"wb\") as f:\n",
    "    f.write(onx.SerializeToString())"
   ]
  },
  {
   "cell_type": "code",
   "execution_count": 37,
   "metadata": {},
   "outputs": [
    {
     "data": {
      "text/plain": [
       "ir_version: 10\n",
       "producer_name: \"skl2onnx\"\n",
       "producer_version: \"1.18.0\"\n",
       "domain: \"ai.onnx\"\n",
       "model_version: 0\n",
       "doc_string: \"\"\n",
       "graph {\n",
       "  node {\n",
       "    input: \"coefficients\"\n",
       "    output: \"variable\"\n",
       "    name: \"LinearRegressor\"\n",
       "    op_type: \"LinearRegressor\"\n",
       "    attribute {\n",
       "      name: \"coefficients\"\n",
       "      floats: 0.5\n",
       "      floats: 0.5\n",
       "      floats: 9.0822274e-17\n",
       "      floats: 0.5\n",
       "      floats: 0.5\n",
       "      floats: 9.0822274e-17\n",
       "      type: FLOATS\n",
       "    }\n",
       "    attribute {\n",
       "      name: \"intercepts\"\n",
       "      floats: 1.0\n",
       "      floats: 1.0\n",
       "      type: FLOATS\n",
       "    }\n",
       "    attribute {\n",
       "      name: \"targets\"\n",
       "      i: 2\n",
       "      type: INT\n",
       "    }\n",
       "    domain: \"ai.onnx.ml\"\n",
       "  }\n",
       "  name: \"ONNX(LinearRegression)\"\n",
       "  input {\n",
       "    name: \"coefficients\"\n",
       "    type {\n",
       "      tensor_type {\n",
       "        elem_type: 1\n",
       "        shape {\n",
       "          dim {\n",
       "            dim_value: 2\n",
       "          }\n",
       "          dim {\n",
       "            dim_value: 3\n",
       "          }\n",
       "        }\n",
       "      }\n",
       "    }\n",
       "  }\n",
       "  output {\n",
       "    name: \"variable\"\n",
       "    type {\n",
       "      tensor_type {\n",
       "        elem_type: 1\n",
       "        shape {\n",
       "          dim {\n",
       "            dim_value: 2\n",
       "          }\n",
       "          dim {\n",
       "            dim_value: 2\n",
       "          }\n",
       "        }\n",
       "      }\n",
       "    }\n",
       "  }\n",
       "}\n",
       "opset_import {\n",
       "  domain: \"ai.onnx.ml\"\n",
       "  version: 1\n",
       "}\n",
       "opset_import {\n",
       "  domain: \"\"\n",
       "  version: 21\n",
       "}"
      ]
     },
     "execution_count": 37,
     "metadata": {},
     "output_type": "execute_result"
    }
   ],
   "source": [
    "onx"
   ]
  },
  {
   "cell_type": "code",
   "execution_count": null,
   "metadata": {},
   "outputs": [],
   "source": []
  }
 ],
 "metadata": {
  "kernelspec": {
   "display_name": "Python 3",
   "language": "python",
   "name": "python3"
  },
  "language_info": {
   "codemirror_mode": {
    "name": "ipython",
    "version": 3
   },
   "file_extension": ".py",
   "mimetype": "text/x-python",
   "name": "python",
   "nbconvert_exporter": "python",
   "pygments_lexer": "ipython3",
   "version": "3.12.8"
  }
 },
 "nbformat": 4,
 "nbformat_minor": 2
}
