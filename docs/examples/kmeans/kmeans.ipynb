{
 "cells": [
  {
   "cell_type": "code",
   "execution_count": 9,
   "metadata": {},
   "outputs": [],
   "source": [
    "# Export Kmeans model as ONNX\n",
    "\n",
    "from sklearn.datasets import make_blobs\n",
    "from sklearn.cluster import KMeans\n",
    "from skl2onnx import convert_sklearn\n",
    "from skl2onnx.common.data_types import FloatTensorType\n",
    "\n",
    "X, y, centers = make_blobs(n_samples=50, n_features=3, centers=5, cluster_std=0.5, shuffle=True, random_state=42,  return_centers=True)\n",
    "num_features = X.shape[1]\n",
    "num_clusters = centers.shape[0]\n",
    "\n",
    "km = KMeans(n_clusters=num_clusters, init='k-means++', n_init=10, max_iter=500, tol=1e-04, random_state=42)\n",
    "km.fit(X)\n",
    "\n",
    "y_km = km.predict(X)\n",
    "\n",
    "out_onnx = \"kmeans.onnx\"\n",
    "\n",
    "initial_type = [('float_input', FloatTensorType([None, num_features]))]\n",
    "onnx_model = convert_sklearn(km, initial_types=initial_type)\n",
    "\n",
    "meta =  onnx_model.metadata_props.add()\n",
    "meta.key = \"sklearn_model\"\n",
    "meta.value = \"KMeans\"\n",
    "\n",
    "with open(out_onnx, \"wb\") as f:\n",
    "    f.write( onnx_model.SerializeToString())"
   ]
  },
  {
   "cell_type": "code",
   "execution_count": null,
   "metadata": {},
   "outputs": [],
   "source": []
  }
 ],
 "metadata": {
  "kernelspec": {
   "display_name": "ml",
   "language": "python",
   "name": "python3"
  },
  "language_info": {
   "codemirror_mode": {
    "name": "ipython",
    "version": 3
   },
   "file_extension": ".py",
   "mimetype": "text/x-python",
   "name": "python",
   "nbconvert_exporter": "python",
   "pygments_lexer": "ipython3",
   "version": "3.12.8"
  }
 },
 "nbformat": 4,
 "nbformat_minor": 2
}
