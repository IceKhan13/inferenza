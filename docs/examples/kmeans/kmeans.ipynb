{
 "cells": [
  {
   "cell_type": "code",
   "execution_count": 9,
   "metadata": {},
   "outputs": [],
   "source": [
    "from sklearn.datasets import make_blobs\n",
    "from sklearn.cluster import KMeans\n",
    "from skl2onnx import convert_sklearn\n",
    "from skl2onnx.common.data_types import FloatTensorType\n",
    "\n",
    "X, y, centers = make_blobs(n_samples=50, n_features=3, centers=5, cluster_std=0.5, shuffle=True, random_state=42,  return_centers=True)\n",
    "num_features = X.shape[1]\n",
    "num_clusters = centers.shape[0]\n",
    "\n",
    "km = KMeans(n_clusters=num_clusters, init='k-means++', n_init=10, max_iter=500, tol=1e-04, random_state=42)\n",
    "km.fit(X)\n",
    "\n",
    "y_km = km.predict(X)\n",
    "\n",
    "out_onnx = \"kmeans.onnx\"\n",
    "\n",
    "initial_type = [('float_input', FloatTensorType([None, num_features]))]\n",
    "onnx_model = convert_sklearn(km, initial_types=initial_type)\n",
    "\n",
    "meta =  onnx_model.metadata_props.add()\n",
    "meta.key = \"sklearn_model\"\n",
    "meta.value = \"KMeans\"\n",
    "\n",
    "with open(out_onnx, \"wb\") as f:\n",
    "    f.write( onnx_model.SerializeToString())"
   ]
  },
  {
   "cell_type": "code",
   "execution_count": 23,
   "metadata": {},
   "outputs": [],
   "source": [
    "from google.protobuf.json_format import MessageToJson\n",
    "\n",
    "with open(\"kmeans.json\", \"w\") as f:\n",
    "    f.write(MessageToJson(onnx_model))"
   ]
  },
  {
   "cell_type": "code",
   "execution_count": 24,
   "metadata": {},
   "outputs": [
    {
     "data": {
      "text/plain": [
       "array([[ 3.97554154, -9.76482951,  9.55782456],\n",
       "       [-2.46683784,  9.02993178,  4.4263314 ],\n",
       "       [ 1.79195845, -6.75723319, -6.78561596],\n",
       "       [-8.471819  ,  7.12113806,  1.92468434],\n",
       "       [ 6.84669769, -5.70588812, -6.15262835]])"
      ]
     },
     "execution_count": 24,
     "metadata": {},
     "output_type": "execute_result"
    }
   ],
   "source": [
    "km.cluster_centers_"
   ]
  },
  {
   "cell_type": "code",
   "execution_count": 22,
   "metadata": {},
   "outputs": [
    {
     "data": {
      "text/plain": [
       "'{\\n  \"irVersion\": \"10\",\\n  \"producerName\": \"skl2onnx\",\\n  \"producerVersion\": \"1.18.0\",\\n  \"domain\": \"ai.onnx\",\\n  \"modelVersion\": \"0\",\\n  \"docString\": \"\",\\n  \"graph\": {\\n    \"node\": [\\n      {\\n        \"input\": [\\n          \"float_input\",\\n          \"Re_ReduceSumSquarecst\"\\n        ],\\n        \"output\": [\\n          \"Re_reduced0\"\\n        ],\\n        \"name\": \"Re_ReduceSumSquare\",\\n        \"opType\": \"ReduceSumSquare\",\\n        \"attribute\": [\\n          {\\n            \"name\": \"keepdims\",\\n            \"i\": \"1\",\\n            \"type\": \"INT\"\\n          }\\n        ],\\n        \"domain\": \"\"\\n      },\\n      {\\n        \"input\": [\\n          \"Re_reduced0\",\\n          \"Mu_Mulcst\"\\n        ],\\n        \"output\": [\\n          \"Mu_C0\"\\n        ],\\n        \"name\": \"Mu_Mul\",\\n        \"opType\": \"Mul\",\\n        \"domain\": \"\"\\n      },\\n      {\\n        \"input\": [\\n          \"float_input\",\\n          \"Ge_Gemmcst\",\\n          \"Mu_C0\"\\n        ],\\n        \"output\": [\\n          \"Ge_Y0\"\\n        ],\\n        \"name\": \"Ge_Gemm\",\\n        \"opType\": \"Gemm\",\\n        \"attribute\": [\\n          {\\n            \"name\": \"alpha\",\\n            \"f\": -2.0,\\n            \"type\": \"FLOAT\"\\n          },\\n          {\\n            \"name\": \"transB\",\\n            \"i\": \"1\",\\n            \"type\": \"INT\"\\n          }\\n        ],\\n        \"domain\": \"\"\\n      },\\n      {\\n        \"input\": [\\n          \"Re_reduced0\",\\n          \"Ge_Y0\"\\n        ],\\n        \"output\": [\\n          \"Ad_C01\"\\n        ],\\n        \"name\": \"Ad_Add\",\\n        \"opType\": \"Add\",\\n        \"domain\": \"\"\\n      },\\n      {\\n        \"input\": [\\n          \"Ad_Addcst\",\\n          \"Ad_C01\"\\n        ],\\n        \"output\": [\\n          \"Ad_C0\"\\n        ],\\n        \"name\": \"Ad_Add1\",\\n        \"opType\": \"Add\",\\n        \"domain\": \"\"\\n      },\\n      {\\n        \"input\": [\\n          \"Ad_C0\"\\n        ],\\n        \"output\": [\\n          \"label\"\\n        ],\\n        \"name\": \"Ar_ArgMin\",\\n        \"opType\": \"ArgMin\",\\n        \"attribute\": [\\n          {\\n            \"name\": \"axis\",\\n            \"i\": \"1\",\\n            \"type\": \"INT\"\\n          },\\n          {\\n            \"name\": \"keepdims\",\\n            \"i\": \"0\",\\n            \"type\": \"INT\"\\n          }\\n        ],\\n        \"domain\": \"\"\\n      },\\n      {\\n        \"input\": [\\n          \"Ad_C0\"\\n        ],\\n        \"output\": [\\n          \"scores\"\\n        ],\\n        \"name\": \"Sq_Sqrt\",\\n        \"opType\": \"Sqrt\",\\n        \"domain\": \"\"\\n      }\\n    ],\\n    \"name\": \"c554d481dc914d719b27d772e34de2ea\",\\n    \"initializer\": [\\n      {\\n        \"dims\": [\\n          \"5\"\\n        ],\\n        \"dataType\": 1,\\n        \"floatData\": [\\n          202.50883,\\n          107.21737,\\n          94.9159,\\n          126.18674,\\n          117.28926\\n        ],\\n        \"name\": \"Ad_Addcst\"\\n      },\\n      {\\n        \"dims\": [\\n          \"1\"\\n        ],\\n        \"dataType\": 7,\\n        \"int64Data\": [\\n          \"1\"\\n        ],\\n        \"name\": \"Re_ReduceSumSquarecst\"\\n      },\\n      {\\n        \"dims\": [\\n          \"5\",\\n          \"3\"\\n        ],\\n        \"dataType\": 1,\\n        \"floatData\": [\\n          3.9755416,\\n          -9.76483,\\n          9.557824,\\n          -2.466838,\\n          9.029932,\\n          4.4263315,\\n          1.7919585,\\n          -6.757233,\\n          -6.785616,\\n          -8.471819,\\n          7.121138,\\n          1.9246843,\\n          6.846698,\\n          -5.7058883,\\n          -6.1526284\\n        ],\\n        \"name\": \"Ge_Gemmcst\"\\n      },\\n      {\\n        \"dims\": [\\n          \"1\"\\n        ],\\n        \"dataType\": 1,\\n        \"floatData\": [\\n          0.0\\n        ],\\n        \"name\": \"Mu_Mulcst\"\\n      }\\n    ],\\n    \"input\": [\\n      {\\n        \"name\": \"float_input\",\\n        \"type\": {\\n          \"tensorType\": {\\n            \"elemType\": 1,\\n            \"shape\": {\\n              \"dim\": [\\n                {},\\n                {\\n                  \"dimValue\": \"3\"\\n                }\\n              ]\\n            }\\n          }\\n        }\\n      }\\n    ],\\n    \"output\": [\\n      {\\n        \"name\": \"label\",\\n        \"type\": {\\n          \"tensorType\": {\\n            \"elemType\": 7,\\n            \"shape\": {\\n              \"dim\": [\\n                {}\\n              ]\\n            }\\n          }\\n        }\\n      },\\n      {\\n        \"name\": \"scores\",\\n        \"type\": {\\n          \"tensorType\": {\\n            \"elemType\": 1,\\n            \"shape\": {\\n              \"dim\": [\\n                {},\\n                {\\n                  \"dimValue\": \"5\"\\n                }\\n              ]\\n            }\\n          }\\n        }\\n      }\\n    ]\\n  },\\n  \"opsetImport\": [\\n    {\\n      \"domain\": \"\",\\n      \"version\": \"18\"\\n    }\\n  ],\\n  \"metadataProps\": [\\n    {\\n      \"key\": \"sklearn_model\",\\n      \"value\": \"KMeans\"\\n    }\\n  ]\\n}'"
      ]
     },
     "execution_count": 22,
     "metadata": {},
     "output_type": "execute_result"
    }
   ],
   "source": []
  },
  {
   "cell_type": "code",
   "execution_count": null,
   "metadata": {},
   "outputs": [],
   "source": []
  }
 ],
 "metadata": {
  "kernelspec": {
   "display_name": "ml",
   "language": "python",
   "name": "python3"
  },
  "language_info": {
   "codemirror_mode": {
    "name": "ipython",
    "version": 3
   },
   "file_extension": ".py",
   "mimetype": "text/x-python",
   "name": "python",
   "nbconvert_exporter": "python",
   "pygments_lexer": "ipython3",
   "version": "3.12.8"
  }
 },
 "nbformat": 4,
 "nbformat_minor": 2
}
