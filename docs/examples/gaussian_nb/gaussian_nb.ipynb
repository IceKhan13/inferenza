{
 "cells": [
  {
   "cell_type": "code",
   "execution_count": 4,
   "metadata": {},
   "outputs": [
    {
     "name": "stdout",
     "output_type": "stream",
     "text": [
      "[[ 0.  0.  5. ...  0.  0.  0.]\n",
      " [ 0.  0.  0. ... 10.  0.  0.]\n",
      " [ 0.  0.  0. ... 16.  9.  0.]\n",
      " ...\n",
      " [ 0.  0.  1. ...  6.  0.  0.]\n",
      " [ 0.  0.  2. ... 12.  0.  0.]\n",
      " [ 0.  0. 10. ... 12.  1.  0.]]\n",
      "[0 1 2 ... 8 9 8]\n",
      "[6 0 0 ... 8 7 1]\n"
     ]
    }
   ],
   "source": [
    "# Export GaussianNB model as ONNX\n",
    "from sklearn.datasets import load_digits  # Import the Digits dataset from scikit-learn\n",
    "from sklearn.model_selection import train_test_split\n",
    "from sklearn.naive_bayes import GaussianNB \n",
    "from skl2onnx import convert_sklearn\n",
    "from skl2onnx.common.data_types import FloatTensorType\n",
    "\n",
    "# Load the digits dataset (handwritten digits 0-9, each image is 8x8 pixels)\n",
    "digits = load_digits()\n",
    "\n",
    "# Extract the feature matrix (X) and target labels (y)\n",
    "X = digits.data  # X contains the pixel values of all images, flattened into 1D arrays (64 pixels per image)\n",
    "y = digits.target  # y contains the corresponding digit labels (0-9)\n",
    "num_features = X.shape[1]\n",
    "\n",
    "print(X)\n",
    "print(y)\n",
    "\n",
    "X_train, X_test, y_train, y_test = train_test_split(\n",
    "    X,                               # Features dataset\n",
    "    y,                               # Target variable dataset\n",
    "    test_size=0.2,                   # Allocate 20% data to test set, 80% for training\n",
    "    random_state=42                  # Seed for reproducibility; ensures consistent splits across runs\n",
    ")\n",
    "\n",
    "# Initialize Gaussian Naive Bayes classifier: assumes feature independence and normal distribution\n",
    "nb_classifier = GaussianNB()\n",
    "  \n",
    "# train the model\n",
    "nb_classifier.fit(\n",
    "    X_train,            # Training feature data (used to learn patterns)\n",
    "    y_train             # Corresponding target labels (supervised learning)\n",
    ")\n",
    "\n",
    "y_pred = nb_classifier.predict(X_train)# Predict labels for training data\n",
    "# Result: Predicted labels (y_pred) for X_train\n",
    "print(y_pred)\n",
    "\n",
    "# out_onnx = \"gaussian_nb.onnx\"\n",
    "\n",
    "# initial_type = [('float_input', FloatTensorType([None, num_features]))]\n",
    "# onnx_model = convert_sklearn(nb_classifier, initial_types=initial_type)\n",
    "\n",
    "# meta =  onnx_model.metadata_props.add()\n",
    "# meta.key = \"sklearn_model\"\n",
    "# meta.value = \"GaussianNB\"\n",
    "\n",
    "# with open(out_onnx, \"wb\") as f:\n",
    "#     f.write( onnx_model.SerializeToString())"
   ]
  },
  {
   "cell_type": "code",
   "execution_count": null,
   "metadata": {},
   "outputs": [],
   "source": []
  }
 ],
 "metadata": {
  "kernelspec": {
   "display_name": "Python 3 (ipykernel)",
   "language": "python",
   "name": "python3"
  },
  "language_info": {
   "codemirror_mode": {
    "name": "ipython",
    "version": 3
   },
   "file_extension": ".py",
   "mimetype": "text/x-python",
   "name": "python",
   "nbconvert_exporter": "python",
   "pygments_lexer": "ipython3",
   "version": "3.10.14"
  }
 },
 "nbformat": 4,
 "nbformat_minor": 4
}
